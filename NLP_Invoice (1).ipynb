{
 "cells": [
  {
   "cell_type": "code",
   "execution_count": 36,
   "id": "d68b7148-4f78-4d0b-951a-be004cd2e3b4",
   "metadata": {},
   "outputs": [],
   "source": [
    "import re\n",
    "import spacy\n",
    "import pdfplumber"
   ]
  },
  {
   "cell_type": "code",
   "execution_count": 37,
   "id": "a42d20d8-2d98-4cdc-8fa1-197dcb4f230a",
   "metadata": {},
   "outputs": [],
   "source": [
    "nlp=spacy.load(\"en_core_web_sm\")"
   ]
  },
  {
   "cell_type": "code",
   "execution_count": 53,
   "id": "c17f0222-2bb2-40c4-9886-b1201280dec1",
   "metadata": {},
   "outputs": [],
   "source": [
    "def extract_invoice(file_path):\n",
    "    with pdfplumber.open(file_path)as pdf:\n",
    "         text=\"\\n\".join([page.extract_text() for page in pdf.pages if page.extract_text()])\n",
    "       \n",
    "    x=nlp(text)\n",
    "    vendor=None\n",
    "    for ent in x.ents:\n",
    "        if ent.label_==\"GSTIN\":\n",
    "            vendor=ent.text\n",
    "            break\n",
    "    date=re.search(r'(\\d{1,2}[\\-]\\d{1,2}[/-]\\d{2,4})',text)\n",
    "    in_date=date.group(0) if date else \"Not Found\"\n",
    "\n",
    "    amt = re.search(r'Total(?:Amount)?[:\\s]*\\$?([0-9,.]+)',text)\n",
    "    total=amt.group(1) if amt else \"Not Found\"\n",
    "\n",
    "    return{\n",
    "        \"Company:\":vendor,\n",
    "        \"Invoice date\":in_date,\n",
    "        \"Total\":total\n",
    "        }"
   ]
  },
  {
   "cell_type": "code",
   "execution_count": 54,
   "id": "d8aa7a39-3278-4d81-bf63-270de28e96d1",
   "metadata": {},
   "outputs": [
    {
     "name": "stdout",
     "output_type": "stream",
     "text": [
      "{'Company:': None, 'Invoice date': '27-12-2024', 'Total': '1'}\n"
     ]
    }
   ],
   "source": [
    "file_path=\"Invoice.pdf\"\n",
    "invoice_info=extract_invoice(file_path)\n",
    "print(invoice_info)"
   ]
  },
  {
   "cell_type": "code",
   "execution_count": null,
   "id": "ed41b407-e1f4-42fa-90f9-e413e1604701",
   "metadata": {},
   "outputs": [],
   "source": []
  },
  {
   "cell_type": "code",
   "execution_count": null,
   "id": "efb0b44f-8145-4f15-98b6-77cb0080e6a1",
   "metadata": {},
   "outputs": [],
   "source": []
  }
 ],
 "metadata": {
  "kernelspec": {
   "display_name": "Python 3 (ipykernel)",
   "language": "python",
   "name": "python3"
  },
  "language_info": {
   "codemirror_mode": {
    "name": "ipython",
    "version": 3
   },
   "file_extension": ".py",
   "mimetype": "text/x-python",
   "name": "python",
   "nbconvert_exporter": "python",
   "pygments_lexer": "ipython3",
   "version": "3.12.10"
  }
 },
 "nbformat": 4,
 "nbformat_minor": 5
}
